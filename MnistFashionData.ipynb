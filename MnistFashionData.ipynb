{
 "cells": [
  {
   "attachments": {},
   "cell_type": "markdown",
   "metadata": {},
   "source": [
    "# Collecting the dataset"
   ]
  },
  {
   "cell_type": "code",
   "execution_count": 10,
   "metadata": {},
   "outputs": [],
   "source": [
    "import os \n",
    "import urllib\n",
    "import urllib.request \n",
    "from zipfile import ZipFile\n",
    "import numpy as np\n",
    "import cv2\n",
    "\n",
    "\n",
    "URL = 'https://nnfs.io/datasets/fashion_mnist_images.zip'\n",
    "FILE = 'fashion_mnist_images.zip'\n",
    "FOLDER = 'FashionMNISTImage'\n",
    "\n",
    "if not os.path.isfile(FILE): #Checks to see if the file already exists \n",
    "    urllib.request.urlretrieve(URL, FILE) #Download the image \n",
    "\n",
    "if not os.path.isdir(FOLDER):\n",
    "    with ZipFile(FILE) as zippedImages:\n",
    "        zippedImages.extractall(FOLDER) #unzips the folder \n",
    "\n",
    "def loadData(dataset, path):\n",
    "    #path refers to the folder\n",
    "    #path refers to the batches of data \n",
    "    labels = os.path.join(path, dataset)\n",
    "\n",
    "    X = []\n",
    "    y = []\n",
    "    for folderClass in os.listdir(labels):\n",
    "        #folderClass contains the class classification\n",
    "        for images in os.listdir(os.path.join(path, dataset, folderClass)):\n",
    "            readImage = cv2.imread(os.path.join(path, dataset, folderClass, images), cv2.IMREAD_UNCHANGED)\n",
    "            #IMREAD Makes it read a grey scale from -1 to 1 (The image data has no colours)\n",
    "            X.append(readImage)\n",
    "            y.append(folderClass)\n",
    "\n",
    "    return np.array(X), np.array(y, dtype = np.uint8)\n",
    "\n",
    "def createData(path):\n",
    "    X,y = loadData('train', path)\n",
    "    Xtest, ytest = loadData('test', path)\n",
    "\n",
    "    return X, y, Xtest, ytest\n"
   ]
  },
  {
   "cell_type": "code",
   "execution_count": 5,
   "metadata": {},
   "outputs": [
    {
     "name": "stdout",
     "output_type": "stream",
     "text": [
      "[5, 4, 3, 2, 1, 0]\n"
     ]
    }
   ],
   "source": [
    "\n",
    "import neuroNetwork as nn\n",
    "import Optimizers as op \n",
    "from matplotlib import pyplot as plt\n",
    "\n"
   ]
  }
 ],
 "metadata": {
  "kernelspec": {
   "display_name": "Python 3",
   "language": "python",
   "name": "python3"
  },
  "language_info": {
   "codemirror_mode": {
    "name": "ipython",
    "version": 3
   },
   "file_extension": ".py",
   "mimetype": "text/x-python",
   "name": "python",
   "nbconvert_exporter": "python",
   "pygments_lexer": "ipython3",
   "version": "3.11.0"
  },
  "orig_nbformat": 4
 },
 "nbformat": 4,
 "nbformat_minor": 2
}
